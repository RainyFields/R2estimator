{
 "cells": [
  {
   "cell_type": "code",
   "execution_count": 1,
   "metadata": {},
   "outputs": [
    {
     "ename": "ValueError",
     "evalue": "Cross index must be 1 dimensional",
     "output_type": "error",
     "traceback": [
      "\u001b[0;31m---------------------------------------------------------------------------\u001b[0m",
      "\u001b[0;31mValueError\u001b[0m                                Traceback (most recent call last)",
      "Input \u001b[0;32mIn [1]\u001b[0m, in \u001b[0;36m<cell line: 18>\u001b[0;34m()\u001b[0m\n\u001b[1;32m     11\u001b[0m mask_2d \u001b[38;5;241m=\u001b[39m np\u001b[38;5;241m.\u001b[39marray([\n\u001b[1;32m     12\u001b[0m     [\u001b[38;5;28;01mTrue\u001b[39;00m, \u001b[38;5;28;01mFalse\u001b[39;00m],\n\u001b[1;32m     13\u001b[0m     [\u001b[38;5;28;01mFalse\u001b[39;00m, \u001b[38;5;28;01mTrue\u001b[39;00m],\n\u001b[1;32m     14\u001b[0m     [\u001b[38;5;28;01mTrue\u001b[39;00m, \u001b[38;5;28;01mTrue\u001b[39;00m]\n\u001b[1;32m     15\u001b[0m ])\n\u001b[1;32m     17\u001b[0m \u001b[38;5;66;03m# Create a boolean mask for the 3D array using np.ix_()\u001b[39;00m\n\u001b[0;32m---> 18\u001b[0m mask_3d \u001b[38;5;241m=\u001b[39m \u001b[43mnp\u001b[49m\u001b[38;5;241;43m.\u001b[39;49m\u001b[43mix_\u001b[49m\u001b[43m(\u001b[49m\u001b[43mmask_2d\u001b[49m\u001b[43m)\u001b[49m\n\u001b[1;32m     20\u001b[0m \u001b[38;5;66;03m# Subselect elements based on the mask\u001b[39;00m\n\u001b[1;32m     21\u001b[0m subselected_array \u001b[38;5;241m=\u001b[39m array_3d[mask_3d]\n",
      "File \u001b[0;32m<__array_function__ internals>:180\u001b[0m, in \u001b[0;36mix_\u001b[0;34m(*args, **kwargs)\u001b[0m\n",
      "File \u001b[0;32m/grid/it/data/elzar/easybuild/software/Python/3.9.5-GCCcore-10.3.0/lib/python3.9/site-packages/numpy/lib/index_tricks.py:102\u001b[0m, in \u001b[0;36mix_\u001b[0;34m(*args)\u001b[0m\n\u001b[1;32m    100\u001b[0m         new \u001b[38;5;241m=\u001b[39m new\u001b[38;5;241m.\u001b[39mastype(_nx\u001b[38;5;241m.\u001b[39mintp)\n\u001b[1;32m    101\u001b[0m \u001b[38;5;28;01mif\u001b[39;00m new\u001b[38;5;241m.\u001b[39mndim \u001b[38;5;241m!=\u001b[39m \u001b[38;5;241m1\u001b[39m:\n\u001b[0;32m--> 102\u001b[0m     \u001b[38;5;28;01mraise\u001b[39;00m \u001b[38;5;167;01mValueError\u001b[39;00m(\u001b[38;5;124m\"\u001b[39m\u001b[38;5;124mCross index must be 1 dimensional\u001b[39m\u001b[38;5;124m\"\u001b[39m)\n\u001b[1;32m    103\u001b[0m \u001b[38;5;28;01mif\u001b[39;00m issubdtype(new\u001b[38;5;241m.\u001b[39mdtype, _nx\u001b[38;5;241m.\u001b[39mbool_):\n\u001b[1;32m    104\u001b[0m     new, \u001b[38;5;241m=\u001b[39m new\u001b[38;5;241m.\u001b[39mnonzero()\n",
      "\u001b[0;31mValueError\u001b[0m: Cross index must be 1 dimensional"
     ]
    }
   ],
   "source": [
    "import numpy as np\n",
    "\n",
    "# Sample 3D array\n",
    "array_3d = np.array([\n",
    "    [[1, 2, 3], [4, 5, 6]],\n",
    "    [[7, 8, 9], [10, 11, 12]],\n",
    "    [[13, 14, 15], [16, 17, 18]]\n",
    "])\n",
    "\n",
    "# Boolean mask for the first 2 dimensions\n",
    "mask_2d = np.array([\n",
    "    [True, False],\n",
    "    [False, True],\n",
    "    [True, True]\n",
    "])\n",
    "\n",
    "# Create a boolean mask for the 3D array using np.ix_()\n",
    "mask_3d = np.ix_(mask_2d)\n",
    "\n",
    "# Subselect elements based on the mask\n",
    "subselected_array = array_3d[mask_3d]\n",
    "\n",
    "# Display the subselected array\n",
    "print(subselected_array)\n"
   ]
  },
  {
   "cell_type": "code",
   "execution_count": 4,
   "metadata": {},
   "outputs": [
    {
     "name": "stdout",
     "output_type": "stream",
     "text": [
      "(3, 2, 3)\n",
      "(3, 2)\n",
      "(3, 2, 3)\n"
     ]
    }
   ],
   "source": [
    "print(array_3d.shape)\n",
    "print(mask_2d.shape)\n",
    "curr_mask = np.repeat(np.expand_dims(mask_2d, axis = 2), 3,axis = 2)\n",
    "print(curr_mask.shape)"
   ]
  },
  {
   "cell_type": "code",
   "execution_count": 5,
   "metadata": {},
   "outputs": [
    {
     "data": {
      "text/plain": [
       "array([ 1,  2,  3, 10, 11, 12, 13, 14, 15, 16, 17, 18])"
      ]
     },
     "execution_count": 5,
     "metadata": {},
     "output_type": "execute_result"
    }
   ],
   "source": [
    "array_3d[curr_mask]"
   ]
  },
  {
   "cell_type": "code",
   "execution_count": null,
   "metadata": {},
   "outputs": [],
   "source": []
  }
 ],
 "metadata": {
  "kernelspec": {
   "display_name": "CUDA/GPU Python 3.9.5 (src)",
   "language": "python",
   "name": "python_3.9.5-gcccore-10.3.0"
  },
  "language_info": {
   "codemirror_mode": {
    "name": "ipython",
    "version": 3
   },
   "file_extension": ".py",
   "mimetype": "text/x-python",
   "name": "python",
   "nbconvert_exporter": "python",
   "pygments_lexer": "ipython3",
   "version": "3.9.5"
  }
 },
 "nbformat": 4,
 "nbformat_minor": 4
}
